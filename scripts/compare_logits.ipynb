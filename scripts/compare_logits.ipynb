{
 "cells": [
  {
   "cell_type": "code",
   "execution_count": null,
   "metadata": {},
   "outputs": [],
   "source": [
    "import numpy as np\n",
    "\n",
    "# Load logits\n",
    "logits_python = np.load(\"maia2_raw_logits.npy\")\n",
    "logits_typescript = np.load(\"logits_python.npy\")\n",
    "# logits_python_legal = np.load(\"logits_python_legal.npy\")\n",
    "\n",
    "# with open(\"logits_typescript.json\", \"r\") as f:\n",
    "#     import json\n",
    "\n",
    "#     logits_typescript = np.array(json.load(f))\n",
    "\n",
    "# with open(\"logits_typescript_legal.json\", \"r\") as f:\n",
    "#     logits_typescript_legal = np.array(json.load(f))\n",
    "\n",
    "# Compute differences\n",
    "diff = logits_python - logits_typescript\n",
    "# diff_legal = logits_python_legal - logits_typescript_legal\n",
    "\n",
    "# Compute statistics\n",
    "mean_diff = np.mean(diff)\n",
    "max_diff = np.max(np.abs(diff))\n",
    "# mean_diff_legal = np.mean(diff_legal)\n",
    "# max_diff_legal = np.max(np.abs(diff_legal))\n",
    "\n",
    "print(f\"Mean difference (raw logits): {mean_diff}\")\n",
    "print(f\"Max difference (raw logits): {max_diff}\")\n",
    "# print(f\"Mean difference (legal logits): {mean_diff_legal}\")\n",
    "# print(f\"Max difference (legal logits): {max_diff_legal}\")\n",
    "\n",
    "import matplotlib.pyplot as plt\n",
    "\n",
    "# Plot raw logits\n",
    "plt.figure(figsize=(12, 6))\n",
    "plt.plot(logits_python.flatten(), label=\"Python\")\n",
    "plt.plot(logits_typescript.flatten(), label=\"TypeScript\", alpha=0.7)\n",
    "plt.title(\"Raw Logits Comparison\")\n",
    "plt.legend()\n",
    "plt.show()\n",
    "\n",
    "# Plot differences\n",
    "plt.figure(figsize=(12, 6))\n",
    "plt.plot(diff.flatten())\n",
    "plt.title(\"Differences in Raw Logits (Python - TypeScript)\")\n",
    "plt.show()\n"
   ]
  }
 ],
 "metadata": {
  "kernelspec": {
   "display_name": "venv",
   "language": "python",
   "name": "python3"
  },
  "language_info": {
   "name": "python",
   "version": "3.10.5"
  }
 },
 "nbformat": 4,
 "nbformat_minor": 2
}

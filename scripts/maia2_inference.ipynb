{
 "cells": [
  {
   "cell_type": "code",
   "execution_count": null,
   "metadata": {},
   "outputs": [],
   "source": [
    "import maia2\n",
    "import chess\n",
    "import numpy as np\n",
    "from maia2 import model, inference\n",
    "\n",
    "\n",
    "maia2_model = model.from_pretrained(type=\"rapid\", device=\"cpu\")\n",
    "\n",
    "prepared = inference.prepare()\n",
    "fen = \"3r4/pb3R2/p1n5/1p1p4/2PN4/5R1P/3pN3/1K2k3 w - - 0 1\"\n",
    "\n",
    "move_prob, win_prob, logits_maia = inference.inference_each(\n",
    "    maia2_model,\n",
    "    prepared,\n",
    "    fen,\n",
    "    1100,\n",
    "    1110,\n",
    ")\n",
    "\n",
    "np.save(\"maia2_raw_logits.npy\", logits_maia.detach().numpy())\n",
    "\n",
    "\n",
    "np.save(\n",
    "    \"board_maia.npy\",\n",
    "    inference.board_to_tensor(chess.Board(fen)),\n",
    ")\n",
    "\n",
    "\n",
    "print(move_prob)\n"
   ]
  }
 ],
 "metadata": {
  "kernelspec": {
   "display_name": "venv",
   "language": "python",
   "name": "python3"
  },
  "language_info": {
   "name": "python",
   "version": "3.10.5"
  }
 },
 "nbformat": 4,
 "nbformat_minor": 2
}

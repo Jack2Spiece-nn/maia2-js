{
 "cells": [
  {
   "cell_type": "code",
   "execution_count": 1,
   "metadata": {},
   "outputs": [
    {
     "name": "stderr",
     "output_type": "stream",
     "text": [
      "/Users/kevinjosethomas/Documents/Code/Minor/maia-onnx-test/venv/lib/python3.10/site-packages/tqdm/auto.py:21: TqdmWarning: IProgress not found. Please update jupyter and ipywidgets. See https://ipywidgets.readthedocs.io/en/stable/user_install.html\n",
      "  from .autonotebook import tqdm as notebook_tqdm\n"
     ]
    },
    {
     "name": "stdout",
     "output_type": "stream",
     "text": [
      "Model for rapid games already downloaded.\n",
      "Model for rapid games loaded to cpu.\n"
     ]
    }
   ],
   "source": [
    "from maia2 import model, inference\n",
    "\n",
    "maia2_model = model.from_pretrained(type=\"rapid\", device=\"cpu\")\n",
    "prepared = inference.prepare()"
   ]
  },
  {
   "cell_type": "code",
   "execution_count": 2,
   "metadata": {},
   "outputs": [
    {
     "name": "stdout",
     "output_type": "stream",
     "text": [
      "{'h5f7': 0.4708, 'b7b8q': 0.3906, 'd2e3': 0.0396, 'c5b6': 0.0309, 'd5d6': 0.0174, 'g4f5': 0.0147, 'c5b4': 0.0064, 'd2d4': 0.0059, 'g4g5': 0.0057, 'd2d3': 0.0044, 'b7b8n': 0.0043, 'b7b8b': 0.0019, 'h5g6': 0.0014, 'b7b8r': 0.0009, 'a1h8': 0.0}\n"
     ]
    }
   ],
   "source": [
    "fen = input(\"Enter FEN: \")\n",
    "\n",
    "move_prob, win_prob, logits_maia = inference.inference_each(\n",
    "    maia2_model,\n",
    "    prepared,\n",
    "    fen,\n",
    "    1100,\n",
    "    1110,\n",
    ")\n",
    "\n",
    "print(move_prob)"
   ]
  }
 ],
 "metadata": {
  "kernelspec": {
   "display_name": "venv",
   "language": "python",
   "name": "python3"
  },
  "language_info": {
   "codemirror_mode": {
    "name": "ipython",
    "version": 3
   },
   "file_extension": ".py",
   "mimetype": "text/x-python",
   "name": "python",
   "nbconvert_exporter": "python",
   "pygments_lexer": "ipython3",
   "version": "3.10.5"
  }
 },
 "nbformat": 4,
 "nbformat_minor": 2
}

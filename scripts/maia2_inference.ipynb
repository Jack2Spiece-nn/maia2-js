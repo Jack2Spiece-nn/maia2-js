{
 "cells": [
  {
   "cell_type": "code",
   "execution_count": null,
   "metadata": {},
   "outputs": [
    {
     "name": "stdout",
     "output_type": "stream",
     "text": [
      "Model for rapid games already downloaded.\n",
      "Model for rapid games loaded to cpu.\n"
     ]
    }
   ],
   "source": [
    "from maia2 import model, inference\n",
    "\n",
    "maia2_model = model.from_pretrained(type=\"rapid\", device=\"cpu\")\n",
    "prepared = inference.prepare()"
   ]
  },
  {
   "cell_type": "code",
   "execution_count": 6,
   "metadata": {},
   "outputs": [
    {
     "name": "stdout",
     "output_type": "stream",
     "text": [
      "0.5142 {'d2d3': 0.3171, 'e1g1': 0.2456, 'f3g5': 0.1459, 'h2h3': 0.1163, 'f3e5': 0.0711, 'd2d4': 0.0253, 'c3d5': 0.022, 'a2a3': 0.0183, 'c3a4': 0.0057, 'c4f7': 0.0055, 'd1e2': 0.0052, 'b2b3': 0.0041, 'c4b5': 0.0032, 'c4d5': 0.0018, 'c3b5': 0.0012, 'c4b3': 0.0011, 'b2b4': 0.001, 'g2g4': 0.0009, 'c3e2': 0.0009, 'a2a4': 0.0008, 'h2h4': 0.0008, 'c4e2': 0.0008, 'g2g3': 0.0007, 'f3h4': 0.0007, 'e1f1': 0.0006, 'f3g1': 0.0004, 'h1f1': 0.0003, 'c4f1': 0.0003, 'c4d3': 0.0002, 'a1b1': 0.0001, 'e1e2': 0.0001, 'h1g1': 0.0001, 'c3b1': 0.0001, 'f3d4': 0.0001, 'a1h8': 0.0, 'c4e6': 0.0, 'c4a6': 0.0}\n"
     ]
    }
   ],
   "source": [
    "fen = input(\"Enter FEN: \")\n",
    "\n",
    "move_prob, win_prob, logits_maia = inference.inference_each(\n",
    "    maia2_model,\n",
    "    prepared,\n",
    "    fen,\n",
    "    1100,\n",
    "    1110,\n",
    ")\n",
    "\n",
    "print(win_prob, move_prob)"
   ]
  },
  {
   "cell_type": "code",
   "execution_count": null,
   "metadata": {},
   "outputs": [],
   "source": []
  }
 ],
 "metadata": {
  "kernelspec": {
   "display_name": "venv",
   "language": "python",
   "name": "python3"
  },
  "language_info": {
   "codemirror_mode": {
    "name": "ipython",
    "version": 3
   },
   "file_extension": ".py",
   "mimetype": "text/x-python",
   "name": "python",
   "nbconvert_exporter": "python",
   "pygments_lexer": "ipython3",
   "version": "3.10.5"
  }
 },
 "nbformat": 4,
 "nbformat_minor": 2
}

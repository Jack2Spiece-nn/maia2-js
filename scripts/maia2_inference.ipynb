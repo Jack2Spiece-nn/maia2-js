{
 "cells": [
  {
   "cell_type": "code",
   "execution_count": 1,
   "metadata": {},
   "outputs": [
    {
     "name": "stderr",
     "output_type": "stream",
     "text": [
      "/Users/kevinjosethomas/Documents/Code/Minor/maia-onnx-test/venv/lib/python3.10/site-packages/tqdm/auto.py:21: TqdmWarning: IProgress not found. Please update jupyter and ipywidgets. See https://ipywidgets.readthedocs.io/en/stable/user_install.html\n",
      "  from .autonotebook import tqdm as notebook_tqdm\n"
     ]
    },
    {
     "name": "stdout",
     "output_type": "stream",
     "text": [
      "Model for rapid games already downloaded.\n",
      "Model for rapid games loaded to cpu.\n"
     ]
    }
   ],
   "source": [
    "from maia2 import model, inference\n",
    "\n",
    "maia2_model = model.from_pretrained(type=\"rapid\", device=\"cpu\")\n",
    "prepared = inference.prepare()"
   ]
  },
  {
   "cell_type": "code",
   "execution_count": 2,
   "metadata": {},
   "outputs": [
    {
     "name": "stdout",
     "output_type": "stream",
     "text": [
      "{'g1f3': 0.2952, 'b1c3': 0.2487, 'b1a3': 0.078, 'd2d4': 0.0744, 'g1h3': 0.0631, 'e2e4': 0.0465, 'e2e3': 0.04, 'd2d3': 0.0232, 'c2c4': 0.0174, 'b2b3': 0.0151, 'c2c3': 0.0113, 'a2a3': 0.0097, 'h2h4': 0.0088, 'g2g3': 0.0087, 'a2a4': 0.008, 'f2f4': 0.008, 'b2b4': 0.0065, 'f2f3': 0.0065, 'g2g4': 0.0064, 'h2h3': 0.0026, 'a1h8': 0.0}\n"
     ]
    }
   ],
   "source": [
    "fen = input(\"Enter FEN: \")\n",
    "\n",
    "move_prob, win_prob, logits_maia = inference.inference_each(\n",
    "    maia2_model,\n",
    "    prepared,\n",
    "    fen,\n",
    "    1100,\n",
    "    1110,\n",
    ")\n",
    "\n",
    "print(move_prob)"
   ]
  }
 ],
 "metadata": {
  "kernelspec": {
   "display_name": "venv",
   "language": "python",
   "name": "python3"
  },
  "language_info": {
   "codemirror_mode": {
    "name": "ipython",
    "version": 3
   },
   "file_extension": ".py",
   "mimetype": "text/x-python",
   "name": "python",
   "nbconvert_exporter": "python",
   "pygments_lexer": "ipython3",
   "version": "3.10.5"
  }
 },
 "nbformat": 4,
 "nbformat_minor": 2
}

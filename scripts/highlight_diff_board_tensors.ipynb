{
 "cells": [
  {
   "cell_type": "code",
   "execution_count": 13,
   "metadata": {},
   "outputs": [],
   "source": [
    "import numpy as np\n",
    "\n",
    "# Load the numpy arrays\n",
    "python_boards = np.load('python_boards.npy')\n",
    "typescript_boards = np.load('typescript_boards.npy')\n",
    "\n",
    "# Ensure the arrays have the same shape\n",
    "if python_boards.shape != typescript_boards.shape:\n",
    "    raise ValueError(\"The arrays have different shapes and cannot be compared directly.\")\n"
   ]
  },
  {
   "cell_type": "code",
   "execution_count": 14,
   "metadata": {},
   "outputs": [],
   "source": [
    "def tensor_to_board(tensor: np.ndarray) -> str:\n",
    "    piece_types = [\"P\", \"N\", \"B\", \"R\", \"Q\", \"K\", \"p\", \"n\", \"b\", \"r\", \"q\", \"k\"]\n",
    "    board = [[\"\" for _ in range(8)] for _ in range(8)]\n",
    "\n",
    "    # Piece placement\n",
    "    for i, piece in enumerate(piece_types):\n",
    "        channel = tensor[i * 64 : (i + 1) * 64]\n",
    "        for idx, val in enumerate(channel):\n",
    "            if val == 1.0:\n",
    "                row = idx // 8\n",
    "                col = idx % 8\n",
    "                board[row][col] = piece\n",
    "\n",
    "    # Construct FEN piece placement\n",
    "    fen_rows = []\n",
    "    for row in board:\n",
    "        fen_row = \"\"\n",
    "        empty = 0\n",
    "        for cell in row:\n",
    "            if cell == \"\":\n",
    "                empty += 1\n",
    "            else:\n",
    "                if empty > 0:\n",
    "                    fen_row += str(empty)\n",
    "                    empty = 0\n",
    "                fen_row += cell\n",
    "        if empty > 0:\n",
    "            fen_row += str(empty)\n",
    "        fen_rows.append(fen_row)\n",
    "    piece_placement = \"/\".join(fen_rows)\n",
    "\n",
    "    # Active color\n",
    "    active_color_channel = tensor[12 * 64 : 13 * 64]\n",
    "    active_color_sum = np.sum(active_color_channel).item()\n",
    "    active_color = \"w\" if active_color_sum >= 32 else \"b\"\n",
    "\n",
    "    # Castling rights\n",
    "    castling_rights = \"\"\n",
    "    castling_channels = tensor[13 * 64 : 17 * 64]\n",
    "    rights = [\"K\", \"Q\", \"k\", \"q\"]\n",
    "    for i in range(0, 256, 64):\n",
    "        channel = castling_channels[i : i + 64]\n",
    "        channel_sum = np.sum(channel).item()\n",
    "        if channel_sum >= 32:\n",
    "            castling_rights += rights[i // 64]\n",
    "    castling_rights = castling_rights if castling_rights else \"-\"\n",
    "\n",
    "    # En passant target\n",
    "    ep_channel = tensor[17 * 64 : 18 * 64]\n",
    "    ep_sum = np.sum(ep_channel).item()\n",
    "    if ep_sum == 1.0:\n",
    "        ep_index = np.argmax(ep_channel)\n",
    "        file = ep_index % 8\n",
    "        rank = 7 - (ep_index // 8)\n",
    "        en_passant = f\"{chr(ord('a') + file)}{rank + 1}\"\n",
    "    else:\n",
    "        en_passant = \"-\"\n",
    "\n",
    "    # Assemble FEN\n",
    "    fen = (\n",
    "        f\"{piece_placement} {active_color} {castling_rights} {en_passant} 0 1\"\n",
    "    )\n",
    "    return fen"
   ]
  },
  {
   "cell_type": "code",
   "execution_count": 15,
   "metadata": {},
   "outputs": [
    {
     "ename": "ValueError",
     "evalue": "The truth value of an array with more than one element is ambiguous. Use a.any() or a.all()",
     "output_type": "error",
     "traceback": [
      "\u001b[0;31m---------------------------------------------------------------------------\u001b[0m",
      "\u001b[0;31mValueError\u001b[0m                                Traceback (most recent call last)",
      "Cell \u001b[0;32mIn[15], line 2\u001b[0m\n\u001b[1;32m      1\u001b[0m \u001b[38;5;66;03m# Convert tensors to FEN strings\u001b[39;00m\n\u001b[0;32m----> 2\u001b[0m python_board_fen \u001b[38;5;241m=\u001b[39m \u001b[43mtensor_to_board\u001b[49m\u001b[43m(\u001b[49m\u001b[43mpython_boards\u001b[49m\u001b[43m)\u001b[49m\n\u001b[1;32m      3\u001b[0m typescript_board_fen \u001b[38;5;241m=\u001b[39m tensor_to_board(typescript_boards)\n\u001b[1;32m      5\u001b[0m \u001b[38;5;28mprint\u001b[39m(\u001b[38;5;124m\"\u001b[39m\u001b[38;5;124mPython Board FEN:\u001b[39m\u001b[38;5;124m\"\u001b[39m)\n",
      "Cell \u001b[0;32mIn[14], line 9\u001b[0m, in \u001b[0;36mtensor_to_board\u001b[0;34m(tensor)\u001b[0m\n\u001b[1;32m      7\u001b[0m channel \u001b[38;5;241m=\u001b[39m tensor[i \u001b[38;5;241m*\u001b[39m \u001b[38;5;241m64\u001b[39m : (i \u001b[38;5;241m+\u001b[39m \u001b[38;5;241m1\u001b[39m) \u001b[38;5;241m*\u001b[39m \u001b[38;5;241m64\u001b[39m]\n\u001b[1;32m      8\u001b[0m \u001b[38;5;28;01mfor\u001b[39;00m idx, val \u001b[38;5;129;01min\u001b[39;00m \u001b[38;5;28menumerate\u001b[39m(channel):\n\u001b[0;32m----> 9\u001b[0m     \u001b[38;5;28;01mif\u001b[39;00m val \u001b[38;5;241m==\u001b[39m \u001b[38;5;241m1.0\u001b[39m:\n\u001b[1;32m     10\u001b[0m         row \u001b[38;5;241m=\u001b[39m idx \u001b[38;5;241m/\u001b[39m\u001b[38;5;241m/\u001b[39m \u001b[38;5;241m8\u001b[39m\n\u001b[1;32m     11\u001b[0m         col \u001b[38;5;241m=\u001b[39m idx \u001b[38;5;241m%\u001b[39m \u001b[38;5;241m8\u001b[39m\n",
      "\u001b[0;31mValueError\u001b[0m: The truth value of an array with more than one element is ambiguous. Use a.any() or a.all()"
     ]
    }
   ],
   "source": [
    "# Convert tensors to FEN strings\n",
    "python_board_fen = tensor_to_board(python_boards)\n",
    "typescript_board_fen = tensor_to_board(typescript_boards)\n",
    "\n",
    "print(\"Python Board FEN:\")\n",
    "print(python_board_fen)\n",
    "print(\"\\nTypeScript Board FEN:\")\n",
    "print(typescript_board_fen)"
   ]
  }
 ],
 "metadata": {
  "kernelspec": {
   "display_name": "venv",
   "language": "python",
   "name": "python3"
  },
  "language_info": {
   "codemirror_mode": {
    "name": "ipython",
    "version": 3
   },
   "file_extension": ".py",
   "mimetype": "text/x-python",
   "name": "python",
   "nbconvert_exporter": "python",
   "pygments_lexer": "ipython3",
   "version": "3.10.5"
  }
 },
 "nbformat": 4,
 "nbformat_minor": 2
}

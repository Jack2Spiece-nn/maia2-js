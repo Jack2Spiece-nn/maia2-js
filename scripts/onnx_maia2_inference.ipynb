{
 "cells": [
  {
   "cell_type": "code",
   "execution_count": 44,
   "metadata": {},
   "outputs": [],
   "source": [
    "import torch\n",
    "import chess\n",
    "import numpy as np\n",
    "import onnxruntime as ort\n",
    "from maia2 import inference\n",
    "\n",
    "all_moves = inference.get_all_possible_moves()\n",
    "all_moves_dict = {move: i for i, move in enumerate(all_moves)}\n",
    "all_moves_dict_reversed = {v: k for k, v in all_moves_dict.items()}\n",
    "elo_dict = inference.create_elo_dict()"
   ]
  },
  {
   "cell_type": "code",
   "execution_count": 45,
   "metadata": {},
   "outputs": [],
   "source": [
    "def to_numpy(tensor):\n",
    "    return (\n",
    "        tensor.detach().cpu().numpy()\n",
    "        if tensor.requires_grad\n",
    "        else tensor.cpu().numpy()\n",
    "    )\n",
    "\n",
    "\n",
    "def mirror_move(move_uci):\n",
    "    # Check if the move is a promotion (length of UCI string will be more than 4)\n",
    "    is_promotion = len(move_uci) > 4\n",
    "\n",
    "    # Extract the start and end squares, and the promotion piece if applicable\n",
    "    start_square = move_uci[:2]\n",
    "    end_square = move_uci[2:4]\n",
    "    promotion_piece = move_uci[4:] if is_promotion else \"\"\n",
    "\n",
    "    # Mirror the start and end squares\n",
    "    mirrored_start = mirror_square(start_square)\n",
    "    mirrored_end = mirror_square(end_square)\n",
    "\n",
    "    # Return the mirrored move, including the promotion piece if applicable\n",
    "    return mirrored_start + mirrored_end + promotion_piece\n",
    "\n",
    "\n",
    "def mirror_square(square):\n",
    "    file = square[0]\n",
    "    rank = str(9 - int(square[1]))\n",
    "\n",
    "    return file + rank"
   ]
  },
  {
   "cell_type": "code",
   "execution_count": 46,
   "metadata": {},
   "outputs": [
    {
     "name": "stdout",
     "output_type": "stream",
     "text": [
      "NEW FEN:  8/1N1p4/R3P3/6pB/1PkpKP1b/8/Np3Q1B/8 w - - 0 1\n"
     ]
    },
    {
     "name": "stderr",
     "output_type": "stream",
     "text": [
      "/var/folders/rw/b9js29716tj3qb0gm18586k00000gn/T/ipykernel_58490/1881726104.py:13: UserWarning: To copy construct from a tensor, it is recommended to use sourceTensor.clone().detach() or sourceTensor.clone().detach().requires_grad_(True), rather than torch.tensor(sourceTensor).\n",
      "  boards = to_numpy(torch.tensor(board_input).unsqueeze(0))\n"
     ]
    }
   ],
   "source": [
    "fen = input(\"Enter FEN: \")\n",
    "elo_self = 1100\n",
    "elo_opp = 1100\n",
    "\n",
    "board = chess.Board(fen=fen)\n",
    "board_input, elo_self_category, elo_opp_category, legal_moves = (\n",
    "    inference.preprocessing(\n",
    "        board.fen(), elo_self, elo_opp, elo_dict, all_moves_dict\n",
    "    )\n",
    ")\n",
    "\n",
    "# boards = to_numpy(torch.tensor(inference.board_to_tensor(board)).unsqueeze(0))\n",
    "boards = to_numpy(torch.tensor(board_input).unsqueeze(0))\n",
    "\n",
    "np.save(\"python_boards.npy\", boards)\n",
    "elos_self = to_numpy(torch.tensor([elo_self_category]))\n",
    "elos_oppo = to_numpy(torch.tensor([elo_opp_category]))"
   ]
  },
  {
   "cell_type": "code",
   "execution_count": 47,
   "metadata": {},
   "outputs": [],
   "source": [
    "onnx_model = ort.InferenceSession(\"./maia_rapid_onnx.onnx\")\n",
    "inputs = {\n",
    "    \"boards\": boards,\n",
    "    \"elo_self\": elos_self,\n",
    "    \"elo_oppo\": elos_oppo,\n",
    "}\n",
    "outputs = onnx_model.run(None, inputs)"
   ]
  },
  {
   "cell_type": "code",
   "execution_count": null,
   "metadata": {},
   "outputs": [
    {
     "name": "stdout",
     "output_type": "stream",
     "text": [
      "FEN:  8/nP3q1b/8/1pKPkp1B/6Pb/r3p3/1n1P4/8 b - - 0 1\n",
      "{'f7b7': 0.4286, 'f7c7': 0.2149, 'f7d5': 0.0754, 'f7f8': 0.0718, 'f7e7': 0.0537, 'b2d3': 0.0277, 'h4e7': 0.0191, 'e3d2': 0.0177, 'f7f6': 0.0134, 'h7g6': 0.0119, 'b2a4': 0.0098, 'f7g6': 0.0056, 'f5g4': 0.0054, 'a3a4': 0.0046, 'f7h5': 0.0044, 'e3e2': 0.0038, 'f7g8': 0.0033, 'a3c3': 0.003, 'a3d3': 0.0029, 'f7g7': 0.0023, 'a3a6': 0.002, 'h7g8': 0.0017, 'b2c4': 0.0015, 'f7d7': 0.0014, 'a7c8': 0.0013, 'b5b4': 0.0012, 'a3b3': 0.0012, 'a3a5': 0.0012, 'f7e8': 0.0011, 'a3a2': 0.0011, 'f5f4': 0.0009, 'h4d8': 0.0007, 'a7c6': 0.0005, 'h4f6': 0.0005, 'h4g5': 0.0004, 'a3a1': 0.0004, 'f7e6': 0.0003, 'e5e4': 0.0003, 'b2d1': 0.0003, 'e5f4': 0.0002, 'h4e1': 0.0002, 'h4f2': 0.0002, 'h4g3': 0.0002, 'e5f6': 0.0001}\n"
     ]
    }
   ],
   "source": [
    "logits_maia_legal = outputs[0] * legal_moves.numpy()\n",
    "probs = torch.tensor(logits_maia_legal).softmax(dim=-1).cpu().tolist()\n",
    "preds = np.argmax(logits_maia_legal, axis=-1)\n",
    "\n",
    "black_flag = False\n",
    "if board.fen().split(\" \")[1] == \"b\":\n",
    "    # logits_value = 1 - logits_value\n",
    "    black_flag = True\n",
    "\n",
    "move_probs = {}\n",
    "legal_move_indices = legal_moves.nonzero().flatten().cpu().numpy().tolist()\n",
    "legal_moves_mirrored = []\n",
    "for move_idx in legal_move_indices:\n",
    "    move = all_moves_dict_reversed[move_idx]\n",
    "    if black_flag:\n",
    "        move = mirror_move(move)\n",
    "    legal_moves_mirrored.append(move)\n",
    "\n",
    "for j in range(len(legal_move_indices)):\n",
    "    move_probs[legal_moves_mirrored[j]] = round(\n",
    "        probs[0][legal_move_indices[j]], 4\n",
    "    )\n",
    "\n",
    "move_probs = dict(\n",
    "    sorted(move_probs.items(), key=lambda item: item[1], reverse=True)\n",
    ")\n",
    "\n",
    "print(move_probs)"
   ]
  },
  {
   "cell_type": "code",
   "execution_count": null,
   "metadata": {},
   "outputs": [],
   "source": []
  }
 ],
 "metadata": {
  "kernelspec": {
   "display_name": "venv",
   "language": "python",
   "name": "python3"
  },
  "language_info": {
   "codemirror_mode": {
    "name": "ipython",
    "version": 3
   },
   "file_extension": ".py",
   "mimetype": "text/x-python",
   "name": "python",
   "nbconvert_exporter": "python",
   "pygments_lexer": "ipython3",
   "version": "3.10.5"
  }
 },
 "nbformat": 4,
 "nbformat_minor": 2
}

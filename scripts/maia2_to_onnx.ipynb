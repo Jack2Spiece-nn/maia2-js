{
 "cells": [
  {
   "cell_type": "code",
   "execution_count": 1,
   "metadata": {},
   "outputs": [
    {
     "name": "stderr",
     "output_type": "stream",
     "text": [
      "/Users/kevinjosethomas/Documents/Code/Minor/maia-onnx-test/venv/lib/python3.10/site-packages/tqdm/auto.py:21: TqdmWarning: IProgress not found. Please update jupyter and ipywidgets. See https://ipywidgets.readthedocs.io/en/stable/user_install.html\n",
      "  from .autonotebook import tqdm as notebook_tqdm\n"
     ]
    },
    {
     "name": "stdout",
     "output_type": "stream",
     "text": [
      "Model for blitz games already downloaded.\n",
      "Model for blitz games loaded to cpu.\n"
     ]
    },
    {
     "ename": "TypeError",
     "evalue": "cannot unpack non-iterable MAIA2Model object",
     "output_type": "error",
     "traceback": [
      "\u001b[0;31m---------------------------------------------------------------------------\u001b[0m",
      "\u001b[0;31mTypeError\u001b[0m                                 Traceback (most recent call last)",
      "Cell \u001b[0;32mIn[1], line 4\u001b[0m\n\u001b[1;32m      1\u001b[0m \u001b[38;5;28;01mimport\u001b[39;00m \u001b[38;5;21;01mtorch\u001b[39;00m\n\u001b[1;32m      2\u001b[0m \u001b[38;5;28;01mfrom\u001b[39;00m \u001b[38;5;21;01mmaia2\u001b[39;00m \u001b[38;5;28;01mimport\u001b[39;00m model\n\u001b[0;32m----> 4\u001b[0m maia2_rapid, checkpoint \u001b[38;5;241m=\u001b[39m model\u001b[38;5;241m.\u001b[39mfrom_pretrained(\u001b[38;5;28mtype\u001b[39m\u001b[38;5;241m=\u001b[39m\u001b[38;5;124m\"\u001b[39m\u001b[38;5;124mblitz\u001b[39m\u001b[38;5;124m\"\u001b[39m, device\u001b[38;5;241m=\u001b[39m\u001b[38;5;124m\"\u001b[39m\u001b[38;5;124mcpu\u001b[39m\u001b[38;5;124m\"\u001b[39m)\n\u001b[1;32m      5\u001b[0m state_dict \u001b[38;5;241m=\u001b[39m {\n\u001b[1;32m      6\u001b[0m     k\u001b[38;5;241m.\u001b[39mreplace(\u001b[38;5;124m\"\u001b[39m\u001b[38;5;124mmodule.\u001b[39m\u001b[38;5;124m\"\u001b[39m, \u001b[38;5;124m\"\u001b[39m\u001b[38;5;124m\"\u001b[39m): v\n\u001b[1;32m      7\u001b[0m     \u001b[38;5;28;01mfor\u001b[39;00m k, v \u001b[38;5;129;01min\u001b[39;00m checkpoint[\u001b[38;5;124m\"\u001b[39m\u001b[38;5;124mmodel_state_dict\u001b[39m\u001b[38;5;124m\"\u001b[39m]\u001b[38;5;241m.\u001b[39mitems()\n\u001b[1;32m      8\u001b[0m }\n\u001b[1;32m      9\u001b[0m maia2_rapid\u001b[38;5;241m.\u001b[39mload_state_dict(state_dict)\n",
      "\u001b[0;31mTypeError\u001b[0m: cannot unpack non-iterable MAIA2Model object"
     ]
    }
   ],
   "source": [
    "import torch\n",
    "from maia2 import model\n",
    "\n",
    "maia_type=\"blitz\"\n",
    "\n",
    "maia2_model, checkpoint = model.from_pretrained(type=maia_type, device=\"cpu\")\n",
    "state_dict = {\n",
    "    k.replace(\"module.\", \"\"): v\n",
    "    for k, v in checkpoint[\"model_state_dict\"].items()\n",
    "}\n",
    "maia2_model.load_state_dict(state_dict)\n",
    "maia2_model.eval()\n",
    "\n",
    "dummy_input1 = torch.randn(1, 18, 8, 8)\n",
    "dummy_input2 = torch.Tensor([0]).long()\n",
    "dummy_input3 = torch.Tensor([0]).long()\n",
    "\n",
    "torch.onnx.export(\n",
    "    maia2_model,  # Model being run\n",
    "    (dummy_input1, dummy_input2, dummy_input3),  # Model inputs as a tuple\n",
    "    f\"./maia_{maia_type}_onnx.onnx\",  # Where to save the model (can be a file or file-like object)\n",
    "    export_params=True,  # Store the trained parameter weights inside the model file\n",
    "    opset_version=11,  # The ONNX version to export the model to\n",
    "    do_constant_folding=True,  # Whether to execute constant folding for optimization\n",
    "    input_names=[\"boards\", \"elo_self\", \"elo_oppo\"],  # The model's input names\n",
    "    output_names=[\n",
    "        \"logits_maia\",\n",
    "        \"logits_side_info\",\n",
    "        \"logits_value\",\n",
    "    ],  # The model's output names\n",
    "    dynamic_axes={\n",
    "        \"boards\": {0: \"batch_size\"},\n",
    "        \"elo_self\": {0: \"batch_size\"},\n",
    "        \"elo_oppo\": {0: \"batch_size\"},\n",
    "        \"logits_maia\": {0: \"batch_size\"},\n",
    "        \"logits_side_info\": {0: \"batch_size\"},\n",
    "        \"logits_value\": {0: \"batch_size\"},\n",
    "    },  # Variable length axes\n",
    ")"
   ]
  }
 ],
 "metadata": {
  "kernelspec": {
   "display_name": "venv",
   "language": "python",
   "name": "python3"
  },
  "language_info": {
   "codemirror_mode": {
    "name": "ipython",
    "version": 3
   },
   "file_extension": ".py",
   "mimetype": "text/x-python",
   "name": "python",
   "nbconvert_exporter": "python",
   "pygments_lexer": "ipython3",
   "version": "3.10.5"
  }
 },
 "nbformat": 4,
 "nbformat_minor": 2
}
